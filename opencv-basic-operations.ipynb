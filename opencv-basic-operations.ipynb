{
 "cells": [
  {
   "cell_type": "code",
   "execution_count": 1,
   "id": "88f38caf-ded4-4eb3-9432-eb88169b7c6f",
   "metadata": {},
   "outputs": [],
   "source": [
    "import cv2  # Import the OpenCV module\n",
    "import os "
   ]
  },
  {
   "cell_type": "code",
   "execution_count": 2,
   "id": "12d81988-ea3f-45d8-8511-ec7a392c37c1",
   "metadata": {},
   "outputs": [],
   "source": [
    "# Replace with your actual image file name\n",
    "image_path = r'C:\\Users\\ASUS FX504GM\\Downloads\\example.jpg'\n",
    "\n",
    "# Load the image\n",
    "image = cv2.imread(image_path)\n"
   ]
  },
  {
   "cell_type": "code",
   "execution_count": null,
   "id": "1c88a006-3d82-4abb-bfb1-7a297d4d8e0c",
   "metadata": {},
   "outputs": [],
   "source": [
    "#displaying the image\n",
    "# Check if the image was successfully loaded\n",
    "if image is None:\n",
    "    print(\"Error: Image not found or could not be loaded. Check the file path.\")\n",
    "else:\n",
    "    # Display the image\n",
    "    cv2.imshow('My Image', image)\n",
    "\n",
    "    # Wait for a key press and close the window\n",
    "    cv2.waitKey(0)\n",
    "    cv2.destroyAllWindows()\n"
   ]
  },
  {
   "cell_type": "code",
   "execution_count": null,
   "id": "c4ce640d-cb23-442b-bdb4-e8c93eace280",
   "metadata": {},
   "outputs": [],
   "source": [
    "# Read webcam\n",
    "webcam = cv2.VideoCapture(0)  # Use the correct index for your webcam (usually 0 or 1)\n",
    "\n",
    "# Check if the webcam is opened successfully\n",
    "if not webcam.isOpened():\n",
    "    print(\"Error: Could not open webcam.\")\n",
    "    exit()\n",
    "\n",
    "# Visualize webcam\n",
    "while True:\n",
    "    ret, frame = webcam.read()  # Read a frame from the webcam\n",
    "\n",
    "    if not ret:\n",
    "        print(\"Error: Failed to capture image from webcam.\")\n",
    "        break\n",
    "\n",
    "    cv2.imshow('Webcam', frame)  # Display the frame\n",
    "\n",
    "    # Break the loop if 'q' is pressed\n",
    "    if cv2.waitKey(50) & 0xFF == ord('q'):\n",
    "        break\n",
    "\n",
    "# Release the webcam and close all OpenCV windows\n",
    "webcam.release()\n",
    "cv2.destroyAllWindows()\n"
   ]
  },
  {
   "cell_type": "code",
   "execution_count": null,
   "id": "4f3ec199-9233-4b27-bf90-9ca8314a3198",
   "metadata": {},
   "outputs": [
    {
     "name": "stdout",
     "output_type": "stream",
     "text": [
      "Image loaded successfully!\n",
      "Original Image shape: (1024, 1024, 3)\n",
      "Resized Image shape: (521, 521, 3)\n"
     ]
    }
   ],
   "source": [
    "#resizing\n",
    "\n",
    "# Replace with your actual image file name\n",
    "image_path = r'C:\\Users\\ASUS FX504GM\\Downloads\\example.jpg'\n",
    "\n",
    "# Load the image\n",
    "image = cv2.imread(image_path)\n",
    "\n",
    "# Check if the image was loaded successfully\n",
    "if image is None:\n",
    "    print(\"Error: Image not found or could not be loaded. Check the file path.\")\n",
    "else:\n",
    "    print(\"Image loaded successfully!\")\n",
    "    print(\"Original Image shape:\", image.shape)  # Print original image dimensions (height, width, channels)\n",
    "\n",
    "    # Resize the image\n",
    "    resized_img = cv2.resize(image, (521, 521))  # New size (width, height)\n",
    "    print(\"Resized Image shape:\", resized_img.shape)  # Print resized image dimensions\n",
    "\n",
    "    # Display the original and resized images\n",
    "    cv2.imshow('Original Image', image)\n",
    "    cv2.imshow('Resized Image', resized_img)\n",
    "\n",
    "    cv2.waitKey(0)  # Wait for a key press to close the window\n",
    "    cv2.destroyAllWindows()"
   ]
  },
  {
   "cell_type": "code",
   "execution_count": null,
   "id": "9de5ae04-dd41-4eaf-8e42-cad154c1f0be",
   "metadata": {},
   "outputs": [
    {
     "name": "stdout",
     "output_type": "stream",
     "text": [
      "Image loaded successfully!\n",
      "Original Image shape: (1024, 1024, 3)\n",
      "Cropped Image shape: (512, 512, 3)\n"
     ]
    }
   ],
   "source": [
    "#crop\n",
    "\n",
    "# Check if the image was loaded successfully\n",
    "if image is None:\n",
    "    print(\"Error: Image not found or could not be loaded. Check the file path.\")\n",
    "else:\n",
    "    print(\"Image loaded successfully!\")\n",
    "    print(\"Original Image shape:\", image.shape)  # Print original image dimensions (height, width, channels)\n",
    "\n",
    "    # Get the dimensions of the image\n",
    "    height, width = image.shape[:2]\n",
    "\n",
    "    # Define the size of the center region to crop (e.g., 50% of the original size)\n",
    "    crop_width = width // 2  # Half the width\n",
    "    crop_height = height // 2  # Half the height\n",
    "\n",
    "    # Calculate the coordinates of the center region\n",
    "    x1 = (width - crop_width) // 2  # Top-left x-coordinate\n",
    "    y1 = (height - crop_height) // 2  # Top-left y-coordinate\n",
    "    x2 = x1 + crop_width  # Bottom-right x-coordinate\n",
    "    y2 = y1 + crop_height  # Bottom-right y-coordinate\n",
    "\n",
    "    # Crop the center of the image\n",
    "    cropped_image = image[y1:y2, x1:x2]\n",
    "\n",
    "    # Print the shape of the cropped image\n",
    "    print(\"Cropped Image shape:\", cropped_image.shape)\n",
    "\n",
    "    # Display the original and cropped images\n",
    "    cv2.imshow('Original Image', image)\n",
    "    cv2.imshow('Cropped Image', cropped_image)\n",
    "\n",
    "    cv2.waitKey(0)  # Wait for a key press to close the window\n",
    "    cv2.destroyAllWindows()"
   ]
  }
 ],
 "metadata": {
  "kernelspec": {
   "display_name": "Python 3 (ipykernel)",
   "language": "python",
   "name": "python3"
  },
  "language_info": {
   "codemirror_mode": {
    "name": "ipython",
    "version": 3
   },
   "file_extension": ".py",
   "mimetype": "text/x-python",
   "name": "python",
   "nbconvert_exporter": "python",
   "pygments_lexer": "ipython3",
   "version": "3.8.20"
  }
 },
 "nbformat": 4,
 "nbformat_minor": 5
}
